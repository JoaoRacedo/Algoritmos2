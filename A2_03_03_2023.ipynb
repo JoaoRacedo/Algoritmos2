{
  "nbformat": 4,
  "nbformat_minor": 0,
  "metadata": {
    "colab": {
      "provenance": [],
      "authorship_tag": "ABX9TyPd3OmFr/THrUy7tQVlEBEm",
      "include_colab_link": true
    },
    "kernelspec": {
      "name": "python3",
      "display_name": "Python 3"
    },
    "language_info": {
      "name": "python"
    }
  },
  "cells": [
    {
      "cell_type": "markdown",
      "metadata": {
        "id": "view-in-github",
        "colab_type": "text"
      },
      "source": [
        "<a href=\"https://colab.research.google.com/github/JoaoRacedo/Algoritmos_2_2023_10/blob/main/A2_03_03_2023.ipynb\" target=\"_parent\"><img src=\"https://colab.research.google.com/assets/colab-badge.svg\" alt=\"Open In Colab\"/></a>"
      ]
    },
    {
      "cell_type": "markdown",
      "source": [
        "Suponga el siguiente vector de strings\n",
        "\n",
        "\tvec = [\"Sr. Adams\", \"Master Kenobi\", \"Padawan Ashoka\", \"Embajadora Leia\"]\n",
        "\n",
        "Se desea saber cuales son los \"honorarios\" de todos las personas, \n",
        "de repetirse alguno solo debe mostrarse una vez.\n",
        "\n",
        "Como lo harian?"
      ],
      "metadata": {
        "id": "lrfqXt24u7jq"
      }
    },
    {
      "cell_type": "code",
      "execution_count": 42,
      "metadata": {
        "colab": {
          "base_uri": "https://localhost:8080/"
        },
        "id": "DY9USm7Yu3i9",
        "outputId": "6e2b361b-20d4-46c1-b9e3-b3adaacc4a36"
      },
      "outputs": [
        {
          "output_type": "stream",
          "name": "stdout",
          "text": [
            "Overwriting main.java\n"
          ]
        }
      ],
      "source": [
        "%%writefile main.java\n",
        "import java.util.Scanner; \n",
        "class main\n",
        "{ \n",
        "    public static void main(String args[]) \n",
        "    { \n",
        "      Scanner leer = new Scanner(System.in);\n",
        "      String[] personas = {\"Sr. Adams\", \"Master Kenobi\", \"Padawan Ashoka\", \"Embajadora Leia\",\n",
        "                           \"Emperador Palpatin\", \"Dark :)\" };\n",
        "      String temp;\n",
        "      String letra;\n",
        "      int j;\n",
        "      boolean sw;\n",
        "\n",
        "      // Recorremos cada posicion del vector persona\n",
        "      for (int i = 0; i < personas.length; i++){\n",
        "        System.out.println(\"el vec en la posicion \" +i +\" es: \" + personas[i]);\n",
        "        // Recorremos cada letra del string persona que esta en la posicion i\n",
        "        temp = \"\";\n",
        "        j = 0;\n",
        "        sw = false;\n",
        "        while(j < personas[i].length() && sw == false){\n",
        "\n",
        "            System.out.println(\"substring(\"+j+\",\"+ (j+1) +\")\"+ personas[i].substring(j,j+1));\n",
        "            letra = personas[i].substring(j,j+1);\n",
        "            if (!letra.equals(\" \")){\n",
        "              temp = temp + letra;\n",
        "            }else{\n",
        "              sw = true;\n",
        "            }\n",
        "\n",
        "            j++;\n",
        "        }\n",
        "        System.out.println(\"la palabra resultante es \" + temp); \n",
        "      }\n",
        "    }\n",
        "}"
      ]
    },
    {
      "cell_type": "code",
      "source": [
        "!java main.java"
      ],
      "metadata": {
        "colab": {
          "base_uri": "https://localhost:8080/"
        },
        "id": "gVBHSLiLvF5z",
        "outputId": "cac25a3d-6509-4979-c1cd-ee0e4b40ae3a"
      },
      "execution_count": 43,
      "outputs": [
        {
          "output_type": "stream",
          "name": "stdout",
          "text": [
            "el vec en la posicion 0 es: Sr. Adams\n",
            "substring(0,1)S\n",
            "substring(1,2)r\n",
            "substring(2,3).\n",
            "substring(3,4) \n",
            "la palabra resultante es Sr.\n",
            "el vec en la posicion 1 es: Master Kenobi\n",
            "substring(0,1)M\n",
            "substring(1,2)a\n",
            "substring(2,3)s\n",
            "substring(3,4)t\n",
            "substring(4,5)e\n",
            "substring(5,6)r\n",
            "substring(6,7) \n",
            "la palabra resultante es Master\n",
            "el vec en la posicion 2 es: Padawan Ashoka\n",
            "substring(0,1)P\n",
            "substring(1,2)a\n",
            "substring(2,3)d\n",
            "substring(3,4)a\n",
            "substring(4,5)w\n",
            "substring(5,6)a\n",
            "substring(6,7)n\n",
            "substring(7,8) \n",
            "la palabra resultante es Padawan\n",
            "el vec en la posicion 3 es: Embajadora Leia\n",
            "substring(0,1)E\n",
            "substring(1,2)m\n",
            "substring(2,3)b\n",
            "substring(3,4)a\n",
            "substring(4,5)j\n",
            "substring(5,6)a\n",
            "substring(6,7)d\n",
            "substring(7,8)o\n",
            "substring(8,9)r\n",
            "substring(9,10)a\n",
            "substring(10,11) \n",
            "la palabra resultante es Embajadora\n",
            "el vec en la posicion 4 es: Emperador Palpatin\n",
            "substring(0,1)E\n",
            "substring(1,2)m\n",
            "substring(2,3)p\n",
            "substring(3,4)e\n",
            "substring(4,5)r\n",
            "substring(5,6)a\n",
            "substring(6,7)d\n",
            "substring(7,8)o\n",
            "substring(8,9)r\n",
            "substring(9,10) \n",
            "la palabra resultante es Emperador\n",
            "el vec en la posicion 5 es: Dark :)\n",
            "substring(0,1)D\n",
            "substring(1,2)a\n",
            "substring(2,3)r\n",
            "substring(3,4)k\n",
            "substring(4,5) \n",
            "la palabra resultante es Dark\n"
          ]
        }
      ]
    },
    {
      "cell_type": "code",
      "source": [],
      "metadata": {
        "id": "tU-eZ9ggv4xi"
      },
      "execution_count": null,
      "outputs": []
    }
  ]
}