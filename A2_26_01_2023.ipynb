{
  "nbformat": 4,
  "nbformat_minor": 0,
  "metadata": {
    "colab": {
      "provenance": [],
      "authorship_tag": "ABX9TyMmpqhFqjt69fNv5n4ESA84",
      "include_colab_link": true
    },
    "kernelspec": {
      "name": "python3",
      "display_name": "Python 3"
    },
    "language_info": {
      "name": "python"
    }
  },
  "cells": [
    {
      "cell_type": "markdown",
      "metadata": {
        "id": "view-in-github",
        "colab_type": "text"
      },
      "source": [
        "<a href=\"https://colab.research.google.com/github/JoaoRacedo/Algoritmos_2_2023_10/blob/main/A2_26_01_2023.ipynb\" target=\"_parent\"><img src=\"https://colab.research.google.com/assets/colab-badge.svg\" alt=\"Open In Colab\"/></a>"
      ]
    },
    {
      "cell_type": "markdown",
      "source": [
        "Ejemplo 1:\n",
        "\n",
        "* como crear un vector"
      ],
      "metadata": {
        "id": "1Q9tx13mGPLI"
      }
    },
    {
      "cell_type": "code",
      "execution_count": null,
      "metadata": {
        "colab": {
          "base_uri": "https://localhost:8080/"
        },
        "id": "_ZWaNwbVGNNu",
        "outputId": "fa5da4a6-2239-46e4-addd-a2ae588d98ac"
      },
      "outputs": [
        {
          "output_type": "stream",
          "name": "stdout",
          "text": [
            "0 0 0 0 0 "
          ]
        }
      ],
      "source": [
        "vec = [0]*5 # vector declaration\n",
        "for i in range(5):\n",
        "  print(vec[i], end = \" \")"
      ]
    },
    {
      "cell_type": "code",
      "source": [
        "vec"
      ],
      "metadata": {
        "colab": {
          "base_uri": "https://localhost:8080/"
        },
        "id": "9wh5u0JrGkkQ",
        "outputId": "1718651a-b3ea-4d02-d685-002da5832280"
      },
      "execution_count": null,
      "outputs": [
        {
          "output_type": "execute_result",
          "data": {
            "text/plain": [
              "[0, 0, 0, 0, 0]"
            ]
          },
          "metadata": {},
          "execution_count": 6
        }
      ]
    },
    {
      "cell_type": "code",
      "source": [
        "vec = [0]*5 # vector declaration\n",
        "for i in range(5):\n",
        "  num = int(input(\"Digite num\"))\n",
        "  vec[i] = num\n",
        "\n",
        "for i in range(5):\n",
        "  print(vec[i], end = \" \")"
      ],
      "metadata": {
        "colab": {
          "base_uri": "https://localhost:8080/"
        },
        "id": "u2UnjHmxGtsI",
        "outputId": "c19abcaf-61b3-4933-b5bf-a0841d4db358"
      },
      "execution_count": null,
      "outputs": [
        {
          "output_type": "stream",
          "name": "stdout",
          "text": [
            "Digite num1\n",
            "Digite num2\n",
            "Digite num3\n",
            "Digite num4\n",
            "Digite num5\n",
            "1 2 3 4 5 "
          ]
        }
      ]
    },
    {
      "cell_type": "code",
      "source": [
        "vec"
      ],
      "metadata": {
        "colab": {
          "base_uri": "https://localhost:8080/"
        },
        "id": "5sOEx6x-HEtH",
        "outputId": "cd7390c5-0cca-4604-880b-a524ed29fa7d"
      },
      "execution_count": null,
      "outputs": [
        {
          "output_type": "execute_result",
          "data": {
            "text/plain": [
              "[1, 2, 3, 4, 5]"
            ]
          },
          "metadata": {},
          "execution_count": 11
        }
      ]
    },
    {
      "cell_type": "code",
      "source": [
        "%%writefile main.java\n",
        "import java.util.Scanner; \n",
        "class main\n",
        "{ \n",
        "    public static void main(String args[]) \n",
        "    { \n",
        "      Scanner leer = new Scanner(System.in);\n",
        "      int[] vec = new int[5];\n",
        "      int num;\n",
        "      for(int i = 0; i < 5; i++){\n",
        "        num = leer.nextInt();\n",
        "        vec[i] = num;\n",
        "      }\n",
        "      for(int i = 0; i < 5; i++){\n",
        "        System.out.print(vec[i] + \" \");\n",
        "      }\n",
        "    }\n",
        "}"
      ],
      "metadata": {
        "colab": {
          "base_uri": "https://localhost:8080/"
        },
        "id": "lNVrsrDlJqn3",
        "outputId": "a45a573e-e78b-479a-fbaf-08d686f96df2"
      },
      "execution_count": null,
      "outputs": [
        {
          "output_type": "stream",
          "name": "stdout",
          "text": [
            "Overwriting main.java\n"
          ]
        }
      ]
    },
    {
      "cell_type": "code",
      "source": [
        "!java main.java"
      ],
      "metadata": {
        "colab": {
          "base_uri": "https://localhost:8080/"
        },
        "id": "jwe06C-xLjbZ",
        "outputId": "2566ad8e-81cd-4cb9-db38-336f456ba37b"
      },
      "execution_count": null,
      "outputs": [
        {
          "output_type": "stream",
          "name": "stdout",
          "text": [
            "1\n",
            "2\n",
            "3\n",
            "4\n",
            "5\n",
            "1 2 3 4 5 "
          ]
        }
      ]
    },
    {
      "cell_type": "code",
      "source": [],
      "metadata": {
        "id": "p2n2PshELni5"
      },
      "execution_count": null,
      "outputs": []
    }
  ]
}