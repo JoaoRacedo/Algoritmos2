{
  "nbformat": 4,
  "nbformat_minor": 0,
  "metadata": {
    "colab": {
      "provenance": [],
      "authorship_tag": "ABX9TyP+8OV6SLRYfxTw0+GdIbFl",
      "include_colab_link": true
    },
    "kernelspec": {
      "name": "python3",
      "display_name": "Python 3"
    },
    "language_info": {
      "name": "python"
    }
  },
  "cells": [
    {
      "cell_type": "markdown",
      "metadata": {
        "id": "view-in-github",
        "colab_type": "text"
      },
      "source": [
        "<a href=\"https://colab.research.google.com/github/JoaoRacedo/Algoritmos_2_2023_10/blob/main/A2_17_02_2023.ipynb\" target=\"_parent\"><img src=\"https://colab.research.google.com/assets/colab-badge.svg\" alt=\"Open In Colab\"/></a>"
      ]
    },
    {
      "cell_type": "code",
      "source": [
        "%%writefile main.java\n",
        "import java.util.Scanner; \n",
        "class main\n",
        "{ \n",
        "    public static void main(String args[]) \n",
        "    { \n",
        "      Scanner leer = new Scanner(System.in);\n",
        "      //int A[][] = new int[50][50];\n",
        "      int A[][] = {{1,2,3,4}}; // dimensiones 1 x 4\n",
        "      int n_A = A.length;\n",
        "      int m_A = A[0].length;\n",
        "      int B[][] = {{1},{4},{6},{8}}; // dimensiones 4 x 1\n",
        "      int n_B = B.length;\n",
        "      int m_B = B[0].length;\n",
        "      int C[][] = new int[n_A][m_B];\n",
        "       // ESCRIBIMOS LA MATRIZ DE FORMA BONITA\n",
        "       System.out.println(\"La matrix tiene \"+n_A+\"x\"+m_A+\" dimen\");\n",
        "       for (int i = 0; i < n_A; i++){ // FILAS!\n",
        "        for (int j = 0; j < m_A; j++){ // COLUMNAS!\n",
        "          System.out.print(A[i][j] + \" \");\n",
        "        }\n",
        "        System.out.println(\"\");\n",
        "      }\n",
        "\n",
        "       // ESCRIBIMOS LA MATRIZ DE FORMA BONITA\n",
        "       System.out.println(\"La matrix tiene \"+n_B+\"x\"+m_B+\" dimen\");\n",
        "       for (int i = 0; i < n_B; i++){ // FILAS!\n",
        "        for (int j = 0; j < m_B; j++){ // COLUMNAS!\n",
        "          System.out.print(B[i][j] + \" \");\n",
        "        }\n",
        "        System.out.println(\"\");\n",
        "      }\n",
        "\n",
        "      if (m_A != n_B){\n",
        "          System.out.println(\"las dimensiones no cuadran!!\");\n",
        "      }else{\n",
        "\n",
        "        for (int i = 0; i < n_A; i++){ // fila\n",
        "          for (int j = 0; j < m_B; j++){ // columna\n",
        "            int suma = 0;\n",
        "            //System.out.println(\"C[\"+i+\",\"+j+\"]\");\n",
        "            for (int k = 0; k < m_A; k++){ // operacion\n",
        "              //System.out.println(\"A[\"+i+\",\"+k+\"] = \"+A[i][k]);\n",
        "              //System.out.println(\"B[\"+k+\",\"+j+\"] = \"+B[k][j]);\n",
        "              suma = suma + A[i][k]*B[k][j];\n",
        "              //System.out.println(\"la suma hasta el momento es = \" +suma);\n",
        "            }\n",
        "            C[i][j] = suma;\n",
        "          }\n",
        "        }\n",
        "\n",
        "      // ESCRIBIMOS LA MATRIZ DE FORMA BONITA\n",
        "       System.out.println(\"La matrix tiene \"+n_A+\"x\"+m_B+\" dimen\");\n",
        "       for (int i = 0; i < n_A; i++){ // FILAS!\n",
        "        for (int j = 0; j < m_B; j++){ // COLUMNAS!\n",
        "          System.out.print(C[i][j] + \" \");\n",
        "        }\n",
        "        System.out.println(\"\");\n",
        "      }\n",
        "\n",
        "      }\n",
        "\n",
        "    }\n",
        "}"
      ],
      "metadata": {
        "colab": {
          "base_uri": "https://localhost:8080/"
        },
        "id": "UWiNmRUSobBe",
        "outputId": "c630ab13-a232-46be-aa35-5357ff6c0e29"
      },
      "execution_count": 41,
      "outputs": [
        {
          "output_type": "stream",
          "name": "stdout",
          "text": [
            "Overwriting main.java\n"
          ]
        }
      ]
    },
    {
      "cell_type": "markdown",
      "source": [
        "$$ C_{i,j} = \\sum_{k = 0}^{m_A - 1} a_{i,k} \\cdot b_{k,j} $$"
      ],
      "metadata": {
        "id": "bd5AGquVuz00"
      }
    },
    {
      "cell_type": "code",
      "source": [
        "!java main.java"
      ],
      "metadata": {
        "colab": {
          "base_uri": "https://localhost:8080/"
        },
        "id": "78tmGNL3rREJ",
        "outputId": "4cfdd2b0-fd0a-45ec-907f-5b2057947d11"
      },
      "execution_count": 42,
      "outputs": [
        {
          "output_type": "stream",
          "name": "stdout",
          "text": [
            "La matrix tiene 1x4 dimen\n",
            "1 2 3 4 \n",
            "La matrix tiene 4x1 dimen\n",
            "1 \n",
            "4 \n",
            "6 \n",
            "8 \n",
            "La matrix tiene 1x1 dimen\n",
            "59 \n"
          ]
        }
      ]
    },
    {
      "cell_type": "code",
      "source": [
        "#A = [[0 for j in range(3)] for i in range(2)]\n",
        "A = [[2,3,4],[4,5,6],[10,11,12]]\n",
        "B = [[1,2,3],[4,5,6],[7,8,9]]\n",
        "\n",
        "n_A = len(A)\n",
        "m_A = len(A[0])\n",
        "n_B = len(B)\n",
        "m_B = len(B[0])\n",
        "\n",
        "C = [[0 for j in range(n_A)] for i in range(m_B)] # en java es int C[][] = new int[n_A][m_B];\n",
        "D = [[0 for j in range(n_A)] for i in range(m_B)] # en java es int D[][] = new int[n_A][m_B];\n",
        "E = [[0 for j in range(n_A)] for i in range(m_B)] # en java es int E[][] = new int[n_A][m_B];\n",
        "\n",
        "\n",
        "print(\"Matrix A\")\n",
        "for i in range(n_A):\n",
        "  for j in range(m_A):\n",
        "    print(A[i][j], end = \" \")\n",
        "  print(\"\")\n",
        "\n",
        "print(\"Matrix B\")\n",
        "for i in range(n_B):\n",
        "  for j in range(m_B):\n",
        "    print(B[i][j], end = \" \")\n",
        "  print(\"\")\n",
        "\n",
        "## OPERACIONES\n",
        "for i in range(n_B):\n",
        "  for j in range(m_B):\n",
        "    C[i][j] = A[i][j] + B[i][j]\n",
        "## Mostrar resultados\n",
        "print(\"Matrix C\")\n",
        "for i in range(n_B):\n",
        "  for j in range(m_B):\n",
        "    print(C[i][j], end = \" \")\n",
        "  print(\"\")\n",
        "print(\"Matrix D\")\n",
        "for i in range(n_B):\n",
        "  for j in range(m_B):\n",
        "    print(D[i][j], end = \" \")\n",
        "  print(\"\")\n",
        "print(\"Matrix E\")\n",
        "for i in range(n_B):\n",
        "  for j in range(m_B):\n",
        "    print(E[i][j], end = \" \")\n",
        "  print(\"\")"
      ],
      "metadata": {
        "colab": {
          "base_uri": "https://localhost:8080/"
        },
        "id": "MBbMgf-1rS87",
        "outputId": "847aeb24-54cf-460f-a8b7-3fd1bf91403f"
      },
      "execution_count": 58,
      "outputs": [
        {
          "output_type": "stream",
          "name": "stdout",
          "text": [
            "Matrix A\n",
            "2 3 4 \n",
            "4 5 6 \n",
            "10 11 12 \n",
            "Matrix B\n",
            "1 2 3 \n",
            "4 5 6 \n",
            "7 8 9 \n",
            "Matrix C\n",
            "3 5 7 \n",
            "8 10 12 \n",
            "17 19 21 \n",
            "Matrix D\n",
            "0 0 0 \n",
            "0 0 0 \n",
            "0 0 0 \n",
            "Matrix E\n",
            "0 0 0 \n",
            "0 0 0 \n",
            "0 0 0 \n"
          ]
        }
      ]
    },
    {
      "cell_type": "markdown",
      "source": [
        "Suma de matrices\n",
        "\n",
        "$$ C_{i,j} = a_{i,j} + b_{i,j} $$"
      ],
      "metadata": {
        "id": "bP1JvUkv23u0"
      }
    },
    {
      "cell_type": "code",
      "source": [],
      "metadata": {
        "id": "37hwGXmS1t7E"
      },
      "execution_count": null,
      "outputs": []
    }
  ]
}