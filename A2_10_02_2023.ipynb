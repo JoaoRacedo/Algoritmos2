{
  "nbformat": 4,
  "nbformat_minor": 0,
  "metadata": {
    "colab": {
      "provenance": [],
      "authorship_tag": "ABX9TyMFSpIl20J4DtjiIPvHKZ4A",
      "include_colab_link": true
    },
    "kernelspec": {
      "name": "python3",
      "display_name": "Python 3"
    },
    "language_info": {
      "name": "python"
    }
  },
  "cells": [
    {
      "cell_type": "markdown",
      "metadata": {
        "id": "view-in-github",
        "colab_type": "text"
      },
      "source": [
        "<a href=\"https://colab.research.google.com/github/JoaoRacedo/Algoritmos_2_2023_10/blob/main/A2_10_02_2023.ipynb\" target=\"_parent\"><img src=\"https://colab.research.google.com/assets/colab-badge.svg\" alt=\"Open In Colab\"/></a>"
      ]
    },
    {
      "cell_type": "code",
      "execution_count": 25,
      "metadata": {
        "colab": {
          "base_uri": "https://localhost:8080/"
        },
        "id": "urqYsw01hs_E",
        "outputId": "7551ee3c-f8c7-4bd9-f1f7-2a4f72f3cd02"
      },
      "outputs": [
        {
          "output_type": "stream",
          "name": "stdout",
          "text": [
            "Overwriting main.java\n"
          ]
        }
      ],
      "source": [
        "%%writefile main.java\n",
        "import java.util.Scanner; \n",
        "class main\n",
        "{ \n",
        "    public static void main(String args[]) \n",
        "    { \n",
        "      Scanner leer = new Scanner(System.in);\n",
        "      int A[][] = new int[50][50];\n",
        "      // int[][] A = new int[50][50];\n",
        "      // int A[][] = {{0,1},{2,3}};\n",
        "      int n, m, num;\n",
        "      System.out.println(\"Digite numero de filas \");\n",
        "      n = leer.nextInt();\n",
        "      System.out.println(\"Digite numero de columnas\");\n",
        "      m = leer.nextInt();\n",
        "      // RELLENAMOS LA MATRIZ\n",
        "      for (int i = 0; i < n; i++){ // FILAS!\n",
        "        //System.out.println(\"Vamos por fila: \"+ i);\n",
        "        for (int j = 0; j < m; j++){ // COLUMNAS!\n",
        "          //System.out.println(\"Vamos por columna: \"+ j); \n",
        "          System.out.println(\"Vamos por A[\"+i+\",\"+j+\"]\");\n",
        "          A[i][j] = leer.nextInt();\n",
        "        }\n",
        "      }\n",
        "       // ESCRIBIMOS LA MATRIZ\n",
        "       for (int i = 0; i < n; i++){ // FILAS!\n",
        "        for (int j = 0; j < m; j++){ // COLUMNAS!\n",
        "          System.out.println(\"A[\"+i+\",\"+j+\"] = \"+ A[i][j]);\n",
        "        }\n",
        "      }\n",
        "\n",
        "       // ESCRIBIMOS LA MATRIZ DE FORMA BONITA\n",
        "       for (int i = 0; i < n; i++){ // FILAS!\n",
        "        for (int j = 0; j < m; j++){ // COLUMNAS!\n",
        "          System.out.print(A[i][j] + \" \");\n",
        "        }\n",
        "        System.out.println(\"\");\n",
        "      }\n",
        "    }\n",
        "}"
      ]
    },
    {
      "cell_type": "code",
      "source": [
        "!java main.java"
      ],
      "metadata": {
        "colab": {
          "base_uri": "https://localhost:8080/"
        },
        "id": "c0Ocqalolckv",
        "outputId": "1cb21573-86eb-499b-b6a9-8bee8c60bce6"
      },
      "execution_count": 26,
      "outputs": [
        {
          "output_type": "stream",
          "name": "stdout",
          "text": [
            "Digite numero de filas \n",
            "2\n",
            "Digite numero de columnas\n",
            "3\n",
            "Vamos por A[0,0]\n",
            "1\n",
            "Vamos por A[0,1]\n",
            "2\n",
            "Vamos por A[0,2]\n",
            "3\n",
            "Vamos por A[1,0]\n",
            "4\n",
            "Vamos por A[1,1]\n",
            "5\n",
            "Vamos por A[1,2]\n",
            "6\n",
            "A[0,0] = 1\n",
            "A[0,1] = 2\n",
            "A[0,2] = 3\n",
            "A[1,0] = 4\n",
            "A[1,1] = 5\n",
            "A[1,2] = 6\n",
            "1 2 3 \n",
            "4 5 6 \n"
          ]
        }
      ]
    },
    {
      "cell_type": "code",
      "source": [
        "# 1 4\n",
        "# 2 5\n",
        "# 3 6"
      ],
      "metadata": {
        "id": "H_J4vdCnlgrf"
      },
      "execution_count": null,
      "outputs": []
    }
  ]
}