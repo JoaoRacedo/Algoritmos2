{
  "nbformat": 4,
  "nbformat_minor": 0,
  "metadata": {
    "colab": {
      "provenance": [],
      "authorship_tag": "ABX9TyOAI6iuyKAKrtxVOsYjVbo/",
      "include_colab_link": true
    },
    "kernelspec": {
      "name": "python3",
      "display_name": "Python 3"
    },
    "language_info": {
      "name": "python"
    }
  },
  "cells": [
    {
      "cell_type": "markdown",
      "metadata": {
        "id": "view-in-github",
        "colab_type": "text"
      },
      "source": [
        "<a href=\"https://colab.research.google.com/github/JoaoRacedo/Algoritmos_2_2023_10/blob/main/Funciones_Subrutinas.ipynb\" target=\"_parent\"><img src=\"https://colab.research.google.com/assets/colab-badge.svg\" alt=\"Open In Colab\"/></a>"
      ]
    },
    {
      "cell_type": "markdown",
      "source": [
        "# Funciones y Subrutinas"
      ],
      "metadata": {
        "id": "0PrxF2jNlWGN"
      }
    },
    {
      "cell_type": "markdown",
      "source": [
        "Como hemos visto a medida el curso ha avanzadó los algoritmos cada vez se vuelven mas largos y muchas veces repetitivos, esto hace que el tiempo que se toma en entenderlos aumente, y puede complicar realizar cambios posteriores a estos.\n",
        "\n",
        "1. ¿Como se soluciono este problema?\n",
        "\n",
        "* Programación procedimental.\n",
        "* Programación en pararelo.\n",
        "* otros.\n",
        "\n",
        "2. ¿Que se logro con las programaciones anteriores? (los logros de cada programación son asociados al tiempo cuando salieron)\n",
        "\n",
        "3. ¿Porque nos importa a nosotros esto?"
      ],
      "metadata": {
        "id": "C3gihq5TlbMW"
      }
    },
    {
      "cell_type": "markdown",
      "source": [
        "## Programación Procedimental"
      ],
      "metadata": {
        "id": "IrnEN0Obl9nH"
      }
    },
    {
      "cell_type": "markdown",
      "source": [
        "Cuando se crearón los procesos procedimentales o programación procedimental nacieron algunos conceptos, tales como **funciones** y **subrutinas** o **procedimientos**.\n",
        "\n",
        "Tanto las **funciones** como las **subrutinas** buscan simplificar tareas repetitivas dentro de un algoritmo, lo cual a su vez, reduce las líneas de codigo, de tal manera que el proceso de entendimiento sea más rápido."
      ],
      "metadata": {
        "id": "Yn8ttZvHmAmY"
      }
    },
    {
      "cell_type": "markdown",
      "source": [
        "### ¿Que es una funcion y una subrutina?"
      ],
      "metadata": {
        "id": "b6KztXezmQXA"
      }
    },
    {
      "cell_type": "markdown",
      "source": [
        "Las **funciones** y **subrutinas** son bloques de codigos que realizan en su lógica de control una tarea específica dada una cierta cantidad de entradas, cuyo flujo de control funciona a nivel autónomo. Se caracterizan porque al ser invocadas o llamadas realizan o resuelven un problema especifico, que puede o no retornar un resultado.\n",
        "\n",
        "Usualmente se asume que las funciones retornan algo y las subrutinas nada. **"
      ],
      "metadata": {
        "id": "xy3vIPfhmZrR"
      }
    },
    {
      "cell_type": "markdown",
      "source": [
        "Inicialmente los lenguajes de programación mantenían unas reglas que indicaban que las funciones solo devolvían un **dato**, y no podían devolver un arreglo; lo cual hoy en día se mantiene a nivel de **pseudocodigo**, pero a nivel de programación ha evolucionado de tal manera que las funciones son capaces de devolver arreglos de datos o datos.\n",
        "\n",
        "Nota: C++ maneja la teoría tradicional, Java maneja una teoria un poco mas avanzada pero solo puede devolver un tipo de dato, mientras que lenguajes como Python, R, enre otros manejan las tendencias mencionadas anteriormente."
      ],
      "metadata": {
        "id": "swSC-ATjm0ZT"
      }
    },
    {
      "cell_type": "markdown",
      "source": [
        "Teniendo lo anterior en cuenta, la forma en como se llama o invoca una función o subrutina es:\n",
        "\n",
        "* Nombre_funcion o Nombre_subrutina\n",
        "* Atributos de entrada, salida, entrada/salida\n",
        "\n",
        "Nombre_funcion$(A_1, A_2,...,A_n)$\n",
        "\n",
        "Donde $(A_1, A_2,...,A_n)$ representan los parámetros del procedimiento o algoritmo principal; parametros que permiten transimitir datos a la función o subrutina. **Es de suma importancia resaltar que la función regresa un solo valor como resultado al procedimiento o algoritmo principal.**"
      ],
      "metadata": {
        "id": "dyDbPa8mnIdr"
      }
    },
    {
      "cell_type": "markdown",
      "source": [
        "¿Cuales son los elementos caracteristicos de las funciones?\n",
        "\n",
        "* Parametros: Son elementos opcionales, que se representan por medio de variables y/o arreglos necesarios para que se pueda resolver el subproblema para el cual se diseño el procedimiento. Estos parametros pueden ser:\n",
        " * Parametros de entrada (E): Permiten unicamente la transmición de informacion del programa principal a la función.\n",
        " \n",
        " * Parametros de salida (S): Solo devuelven resultados."
      ],
      "metadata": {
        "id": "zKacc2xrnzwu"
      }
    },
    {
      "cell_type": "markdown",
      "source": [
        "Miremos algunos ejemplos en Java y Python"
      ],
      "metadata": {
        "id": "Kr47xftfoFNK"
      }
    },
    {
      "cell_type": "markdown",
      "source": [
        "#### Ejemplo 1\n",
        "\n",
        "Dados dos numeros encuentre cual es el menor."
      ],
      "metadata": {
        "id": "PzrpdqP0oIIE"
      }
    },
    {
      "cell_type": "code",
      "execution_count": 1,
      "metadata": {
        "colab": {
          "base_uri": "https://localhost:8080/"
        },
        "id": "lb_39uAUlSvV",
        "outputId": "4be8e423-8417-4918-e590-bf1c73f45dd9"
      },
      "outputs": [
        {
          "output_type": "stream",
          "name": "stdout",
          "text": [
            "Writing Example1.java\n"
          ]
        }
      ],
      "source": [
        "%%writefile Example1.java\n",
        "import java.util.Scanner; \n",
        "class Example1 { // <-- Comienza la clase, TODO DEBE ESTAR DENTRO DE LA CLASE\n",
        "\n",
        "   public static void main(String[] args) { // <-- Comienza mi programa principal\n",
        "      int a = 11;\n",
        "      int b = 6;\n",
        "      int c = 7;\n",
        "      int d = 9;\n",
        "      int result1 = minFunction(a, b); // <-- asi llamo la función, a y b ya han sido declarados \n",
        "                                       //     e inicializados anteriormente como enteros y su \n",
        "                                      //      resultado sera guardado en result1.\n",
        "      \n",
        "      int result2 = minFunction(c, d); // <-- asi llamo la funcion, c y d ya han sido declarados \n",
        "                                       //     e inicializados anteriormente como entero y su \n",
        "                                       //     resultado sera guardado en result2.\n",
        "\n",
        "      System.out.println(\"Minimum Value = \" + result1);\n",
        "      System.out.println(\"Minimum Value = \" + result2);\n",
        "   } // <-- Termina mi programa principal\n",
        "\n",
        "\n",
        "   // La funcion minFunction es de tipo int (el public static lo manejaremos siempre), y tiene dos valores de entrada los cuales son int n1 e int n2\n",
        "   // n1 y n2 no son los nombres con los que llame la funcion en mi codigo principal, pero no importa, porque son variables de referencia es decir\n",
        "   // cuando la funcion minFunction se ejecute n1 = a o c (dependiendo del llamado) y n2 = b o d (dependiendo del llamado)\n",
        "\n",
        "   public static int minFunction(int n1, int n2) { // <-- asi creo una funcion con los parametros de entrada que necesita...Comienza mi funcion\n",
        "      System.out.println(\"Llame a la funcion con \"+n1+\" y \"+n2); // <-- Puedo escribir cosas o hacer cualquier operacion dentro de mi funcion\n",
        "      int min; // <-- esta variable no esta en los parametros de entrada, es mi variable de salida.\n",
        "      if (n1 > n2){\n",
        "         min = n2;\n",
        "      }else{\n",
        "         min = n1;\n",
        "      }\n",
        "      return min;  // <-- return significa retorna, es decir, min es el valor que retorna mi funcion y lo que le devolvera a mi programa principal\n",
        "   }\n",
        "\n",
        "} // <-- Termina la clase, TODO DEBE ESTAR DENTRO DE LA CLASE\n",
        "     "
      ]
    },
    {
      "cell_type": "code",
      "source": [
        "!java Example1.java"
      ],
      "metadata": {
        "colab": {
          "base_uri": "https://localhost:8080/"
        },
        "id": "5Mntqo6yo7rG",
        "outputId": "5bdc435c-54cc-4256-9893-5341d186a1d0"
      },
      "execution_count": 2,
      "outputs": [
        {
          "output_type": "stream",
          "name": "stdout",
          "text": [
            "Llame a la funcion con 11 y 6\n",
            "Llame a la funcion con 7 y 9\n",
            "Minimum Value = 6\n",
            "Minimum Value = 7\n"
          ]
        }
      ]
    },
    {
      "cell_type": "code",
      "source": [
        "def minFunction(n1: int, n2: int):\n",
        "  print(\"LLame a la funcion con\",n1,\"y\",n2)\n",
        "  min: int\n",
        "  if (n1>n2):\n",
        "    min = n2\n",
        "  else:\n",
        "    min =  n1\n",
        "  \n",
        "  return min\n",
        "\n",
        "a = 11\n",
        "b = 6\n",
        "c = 7\n",
        "d = 9\n",
        "result1 = minFunction(a,b)\n",
        "result2 = minFunction(c,d)\n",
        "print(\"Minimum Value =\" ,result1)\n",
        "print(\"Minimum Value =\" ,result2)"
      ],
      "metadata": {
        "colab": {
          "base_uri": "https://localhost:8080/"
        },
        "id": "2_Hy4Wofo9Ld",
        "outputId": "8faae121-4425-4ea7-d761-f513281982f2"
      },
      "execution_count": 3,
      "outputs": [
        {
          "output_type": "stream",
          "name": "stdout",
          "text": [
            "LLame a la funcion con 11 y 6\n",
            "LLame a la funcion con 7 y 9\n",
            "Minimum Value = 6\n",
            "Minimum Value = 7\n"
          ]
        }
      ]
    },
    {
      "cell_type": "markdown",
      "source": [
        "#### Ejemplo 2\n",
        "\n",
        "Dado un numero, encuentre a que rango pertence dependiendo de lo siguiente:\n",
        "\n",
        "* Rank: A1, si el numero es mayor o igual a 202.5\n",
        "* Rank: A2, si el numero es mayor o igual a 122.4\n",
        "* Rank: A3, el resto de casos."
      ],
      "metadata": {
        "id": "mSMrOW_SpzLR"
      }
    },
    {
      "cell_type": "code",
      "source": [
        "%%writefile Example2.java\n",
        "import java.util.Scanner; \n",
        "class Example2 { // <-- Comienza la clase, TODO DEBE ESTAR DENTRO DE LA CLASE\n",
        "\n",
        "   public static void main(String[] args) { // <-- Comienza mi programa principal\n",
        "      String respuesta;\n",
        "      respuesta = Rank(255.7); // <-- asi llamo la función\n",
        "      System.out.println(\"The response is \" + respuesta);\n",
        "      respuesta = Rank(122.7); // <-- asi llamo la función\n",
        "      System.out.println(\"The response is \" + respuesta);\n",
        "      respuesta = Rank(0.7); // <-- asi llamo la función\n",
        "      System.out.println(\"The response is \" + respuesta);\n",
        "      respuesta = Rank(-1.7); // <-- asi llamo la función\n",
        "      System.out.println(\"The response is \" + respuesta);\n",
        "   } // <-- Termina mi programa principal\n",
        "\n",
        "   public static String Rank(double points) { // <-- asi creo una funcion con los parametros de entrada que necesita...Comienza mi funcion\n",
        "       String response; // <-- esta variable no esta en los parametros de entrada, es mi variable de salida.\n",
        "      if (points >= 202.5) {\n",
        "         response = \"Rank:A1\";\n",
        "      }else{\n",
        "          if (points >= 122.4) {\n",
        "              response = \"Rank:A2\";\n",
        "          }else {\n",
        "              response = \"Rank:A3\";\n",
        "          }\n",
        "      } \n",
        "      return response; // <-- return significa retorna, es decir, response es el valor que retorna mi funcion y lo que le devolvera a mi programa principal\n",
        "   }\n",
        "} // <-- Termina la clase, TODO DEBE ESTAR DENTRO DE LA CLASE"
      ],
      "metadata": {
        "colab": {
          "base_uri": "https://localhost:8080/"
        },
        "id": "J41sCYiypqqO",
        "outputId": "6cf493e4-5e94-4f30-9452-c0d87cfa22e6"
      },
      "execution_count": 4,
      "outputs": [
        {
          "output_type": "stream",
          "name": "stdout",
          "text": [
            "Writing Example2.java\n"
          ]
        }
      ]
    },
    {
      "cell_type": "code",
      "source": [
        "!java Example2.java"
      ],
      "metadata": {
        "colab": {
          "base_uri": "https://localhost:8080/"
        },
        "id": "fcEIF-FjqBwz",
        "outputId": "27d4bda6-0e5b-416f-ae8b-5ffd0cd12749"
      },
      "execution_count": 5,
      "outputs": [
        {
          "output_type": "stream",
          "name": "stdout",
          "text": [
            "The response is Rank:A1\n",
            "The response is Rank:A2\n",
            "The response is Rank:A3\n",
            "The response is Rank:A3\n"
          ]
        }
      ]
    },
    {
      "cell_type": "code",
      "source": [
        "def Rank(points: float):\n",
        "  response = \"\"\n",
        "  if (points >= 202.5):\n",
        "      response = \"Rank: A1\"\n",
        "  else:\n",
        "      if (points >= 122.4):\n",
        "          response = \"Rank: A2\"\n",
        "      else:\n",
        "          response = \"Rank: A3\"\n",
        "  return response\n",
        "\n",
        "respuesta = \"\"\n",
        "respuesta = Rank(255.7); \n",
        "print(\"The response is\", respuesta)\n",
        "respuesta = Rank(122.7)\n",
        "print(\"The response is\", respuesta);\n",
        "respuesta = Rank(0.7)\n",
        "print(\"The response is\", respuesta);\n",
        "respuesta = Rank(-1.7)\n",
        "print(\"The response is\", respuesta);"
      ],
      "metadata": {
        "colab": {
          "base_uri": "https://localhost:8080/"
        },
        "id": "gJNV_e5VqDUF",
        "outputId": "054b1bcd-807c-44e9-cbe6-765b401071b0"
      },
      "execution_count": 8,
      "outputs": [
        {
          "output_type": "stream",
          "name": "stdout",
          "text": [
            "The response is Rank: A1\n",
            "The response is Rank: A2\n",
            "The response is Rank: A3\n",
            "The response is Rank: A3\n"
          ]
        }
      ]
    },
    {
      "cell_type": "markdown",
      "source": [
        "#### Ejemplo 3\n",
        "\n",
        "Dado un numero, calcule el factorial de este."
      ],
      "metadata": {
        "id": "EoDj6GXfq98i"
      }
    },
    {
      "cell_type": "code",
      "source": [
        "%%writefile Example3.java\n",
        "import java.util.Scanner;\n",
        "class Example3 { // <-- Comienza la clase, TODO DEBE ESTAR DENTRO DE LA CLASE,\n",
        "\n",
        " public static void main(String[] args) { // <-- Comienza mi programa principal\n",
        "      Scanner s = new Scanner(System.in); // nuestra herramienta para leer datos\n",
        "      int n,r,r1,r2,r3;\n",
        "      System.out.println(\"Digite el valor n al que quiere calcular el factorial\");\n",
        "      n = s.nextInt();\n",
        "      r = Factorial(n); // <-- asi llamo la función\n",
        "      System.out.println(\"La respuesta es \"+r);\n",
        "      System.out.println(\"Digite el valor n al que quiere calcular el factorial\");\n",
        "      n = s.nextInt();\n",
        "      r1 = Factorial(n); // <-- asi llamo la función\n",
        "      System.out.println(\"La respuesta es \"+r1);\n",
        "      System.out.println(\"Digite el valor n al que quiere calcular el factorial\");\n",
        "      n = s.nextInt();\n",
        "      r2 = Factorial(n); // <-- asi llamo la función\n",
        "      System.out.println(\"La respuesta es \"+r2);\n",
        "      System.out.println(\"Digite el valor n al que quiere calcular el factorial\");\n",
        "      n = s.nextInt();\n",
        "      r3 = Factorial(n); // <-- asi llamo la función\n",
        "      System.out.println(\"La respuesta es \"+r3);\n",
        "   } // <-- Termina mi programa principal\n",
        "\n",
        "   public static int Factorial(int n) { // <-- asi creo una funcion con los parametros de entrada que necesita...Comienza mi funcion\n",
        "      int i; // <-- esta variable no esta en los parametros de entrada, la usare en mi funcion para hallar el factorial\n",
        "      int respuesta; // <-- esta variable no esta en los parametros de entrada, es mi variable de salida.\n",
        "      if (n == 0){\n",
        "         return 1; // <-- de cumplirse el condicional aqui terminaria la funcion y retornaria 1\n",
        "      }else{\n",
        "         respuesta = 1;\n",
        "         for(i=1;i<=n;i=i+1){\n",
        "            respuesta = respuesta*i;\n",
        "         }\n",
        "      }\n",
        "      return respuesta;  // Si no entra a n = 0, entonces hara el proceso del sino y retornara respuesta\n",
        "   }\n",
        "} // <-- Termina la clase, TODO DEBE ESTAR DENTRO DE LA CLASE\""
      ],
      "metadata": {
        "colab": {
          "base_uri": "https://localhost:8080/"
        },
        "id": "c6hz4NKSq9s2",
        "outputId": "40629d00-1fe3-4172-8947-80e90585e962"
      },
      "execution_count": 17,
      "outputs": [
        {
          "output_type": "stream",
          "name": "stdout",
          "text": [
            "Overwriting Example3.java\n"
          ]
        }
      ]
    },
    {
      "cell_type": "code",
      "source": [
        "!java Example3.java"
      ],
      "metadata": {
        "colab": {
          "base_uri": "https://localhost:8080/"
        },
        "id": "idHe1OoNriBe",
        "outputId": "7fc7eac7-9eed-4b08-d729-46aae84cd9ed"
      },
      "execution_count": 18,
      "outputs": [
        {
          "output_type": "stream",
          "name": "stdout",
          "text": [
            "Digite el valor n al que quiere calcular el factorial\n",
            "1\n",
            "La respuesta es 1\n",
            "Digite el valor n al que quiere calcular el factorial\n",
            "5\n",
            "La respuesta es 120\n",
            "Digite el valor n al que quiere calcular el factorial\n",
            "4\n",
            "La respuesta es 24\n",
            "Digite el valor n al que quiere calcular el factorial\n",
            "3\n",
            "La respuesta es 6\n"
          ]
        }
      ]
    },
    {
      "cell_type": "code",
      "source": [
        "## Como seria en python?\n"
      ],
      "metadata": {
        "id": "kk24auTLrkjl"
      },
      "execution_count": 20,
      "outputs": []
    },
    {
      "cell_type": "markdown",
      "source": [
        "#### Ejemplo 4\n",
        "\n",
        "Dado m numeros, calcule el factorial de cada uno."
      ],
      "metadata": {
        "id": "lmy9t-4tsWcY"
      }
    },
    {
      "cell_type": "code",
      "source": [
        "%%writefile Example4.java\n",
        "import java.util.Scanner;\n",
        "class Example4 { // <-- Comienza la clase, TODO DEBE ESTAR DENTRO DE LA CLASE\n",
        "\n",
        "   public static void main(String[] args) { // <-- Comienza mi programa principal\n",
        "      Scanner s = new Scanner(System.in); // nuestra herramienta para leer datos\n",
        "      int m,n,i;\n",
        "      int r[] = new int[50];\n",
        "      System.out.println(\"Digite cuantos factoriales quiere calcular\");\n",
        "      m = s.nextInt();\n",
        "      for(i = 0; i<m;i=i+1){\n",
        "        System.out.println(\"Digite el valor n al que quiere calcular el factorial\");\n",
        "        n = s.nextInt();\n",
        "        r[i] = Factorial(n); // <-- asi llamo la función\n",
        "      }\n",
        "      System.out.println(\"Escribamos los resultados\");\n",
        "      for(i=0;i<m;i=i+1){\n",
        "          System.out.println(\"El resultado de la operacion \"+i+\" fue \"+r[i]);\n",
        "      }\n",
        "\n",
        "   } // <-- Termina mi programa principal\n",
        "\n",
        "   public static int Factorial(int n) { // <-- asi creo una funcion con los parametros de entrada que necesita...Comienza mi funcion\n",
        "      int i; // <-- esta variable no esta en los parametros de entrada, la usare en mi funcion para hallar el factorial\n",
        "      int respuesta; // <-- esta variable no esta en los parametros de entrada, es mi variable de salida.\n",
        "      if (n == 0){\n",
        "         return 1; // <-- de cumplirse el condicional aqui terminaria la funcion y retornaria 1\n",
        "      }else{\n",
        "         respuesta = 1;\n",
        "         for(i=1;i<=n;i=i+1){\n",
        "             respuesta = respuesta*i;\n",
        "         }\n",
        "      }\n",
        "      return respuesta;  // Si no entra a n = 0, entonces hara el proceso del sino y retornara respuesta\n",
        "   }\n",
        "\n",
        "} // <-- Termina la clase, TODO DEBE ESTAR DENTRO DE LA CLASE\""
      ],
      "metadata": {
        "colab": {
          "base_uri": "https://localhost:8080/"
        },
        "id": "EbTYEPJusIG9",
        "outputId": "b36415d2-0d79-4119-e448-fc55c3a79b24"
      },
      "execution_count": 22,
      "outputs": [
        {
          "output_type": "stream",
          "name": "stdout",
          "text": [
            "Writing Example4.java\n"
          ]
        }
      ]
    },
    {
      "cell_type": "code",
      "source": [
        "!java Example4.java"
      ],
      "metadata": {
        "colab": {
          "base_uri": "https://localhost:8080/"
        },
        "id": "GFKadCgntHBb",
        "outputId": "21c60edb-a3f0-4cbb-f97b-61e42ee65512"
      },
      "execution_count": 23,
      "outputs": [
        {
          "output_type": "stream",
          "name": "stdout",
          "text": [
            "Digite cuantos factoriales quiere calcular\n",
            "5\n",
            "Digite el valor n al que quiere calcular el factorial\n",
            "1\n",
            "Digite el valor n al que quiere calcular el factorial\n",
            "2\n",
            "Digite el valor n al que quiere calcular el factorial\n",
            "3\n",
            "Digite el valor n al que quiere calcular el factorial\n",
            "4\n",
            "Digite el valor n al que quiere calcular el factorial\n",
            "5\n",
            "Escribamos los resultados\n",
            "El resultado de la operacion 0 fue 1\n",
            "El resultado de la operacion 1 fue 2\n",
            "El resultado de la operacion 2 fue 6\n",
            "El resultado de la operacion 3 fue 24\n",
            "El resultado de la operacion 4 fue 120\n"
          ]
        }
      ]
    },
    {
      "cell_type": "code",
      "source": [
        "## Como seria en python?\n"
      ],
      "metadata": {
        "id": "R9nZwMSQtLVy"
      },
      "execution_count": 24,
      "outputs": []
    },
    {
      "cell_type": "markdown",
      "source": [
        "#### Ejemplo 5\n",
        "\n",
        "Que hace este ejemplo?"
      ],
      "metadata": {
        "id": "kgNvX-metngx"
      }
    },
    {
      "cell_type": "code",
      "source": [
        "%%writefile Example5.java\n",
        "import java.util.Scanner;\n",
        "class Example5 { // <-- Comienza la clase, TODO DEBE ESTAR DENTRO DE LA CLASE\n",
        "    public static void main(String[] args) { // <-- Comienza mi programa principal\n",
        "      Scanner s = new Scanner(System.in); // nuestra herramienta para leer datos\n",
        "      int i,n;\n",
        "      double avg;\n",
        "      double A[] = new double[50];\n",
        "      System.out.println(\"Digite el numero de datos del vector\");\n",
        "      n = s.nextInt();\n",
        "      A = ReadVector(n);\n",
        "      for(i=0;i<n;i=i+1){\n",
        "          System.out.print(A[i] + \" \");\n",
        "      }\n",
        "       System.out.println(\"\");\n",
        "      avg = Average(A,n);\n",
        "      System.out.println(\"Su promedio es \"+ avg);\n",
        "    } // <-- Termina mi programa principal\n",
        "\n",
        "   public static double[] ReadVector(int n) { // <-- asi creo una funcion con los parametros de entrada que necesita...Comienza mi funcion\n",
        "      int i; // <-- esta variable no esta en los parametros de entrada, la usare en mi funcion para hallar el factorial\n",
        "      double Vector[] = new double[n];\n",
        "      Scanner s = new Scanner(System.in); // nuestra herramienta para leer datos\n",
        "      for(i=0;i<n;i=i+1){\n",
        "          System.out.println(\"Digite el valor de la posicion A[\"+i+\"]\");\n",
        "          Vector[i] = s.nextDouble();\n",
        "          }\n",
        "      return Vector;\n",
        "   }\n",
        "   public static double Average(double vec[],int n){\n",
        "       int i;\n",
        "       double cont = 0;\n",
        "       for(i=0;i<n;i=i+1){\n",
        "           cont = cont + vec[i];\n",
        "       }\n",
        "       return (cont/n);\n",
        "   }\n",
        "}// <-- Termina la clase, TODO DEBE ESTAR DENTRO DE LA CLASE"
      ],
      "metadata": {
        "colab": {
          "base_uri": "https://localhost:8080/"
        },
        "id": "pW5lZ7YftSNK",
        "outputId": "b7c8576f-6c76-494f-81c6-70c121f88b40"
      },
      "execution_count": 25,
      "outputs": [
        {
          "output_type": "stream",
          "name": "stdout",
          "text": [
            "Writing Example5.java\n"
          ]
        }
      ]
    },
    {
      "cell_type": "code",
      "source": [
        "!java Example5.java"
      ],
      "metadata": {
        "colab": {
          "base_uri": "https://localhost:8080/"
        },
        "id": "d7jl01SMzDqY",
        "outputId": "4318c2f1-d214-4819-a6fd-e84c756fa514"
      },
      "execution_count": 26,
      "outputs": [
        {
          "output_type": "stream",
          "name": "stdout",
          "text": [
            "Digite el numero de datos del vector\n",
            "6\n",
            "Digite el valor de la posicion A[0]\n",
            "2\n",
            "Digite el valor de la posicion A[1]\n",
            "4\n",
            "Digite el valor de la posicion A[2]\n",
            "6\n",
            "Digite el valor de la posicion A[3]\n",
            "8\n",
            "Digite el valor de la posicion A[4]\n",
            "10\n",
            "Digite el valor de la posicion A[5]\n",
            "12\n",
            "2.0 4.0 6.0 8.0 10.0 12.0 \n",
            "Su promedio es 7.0\n"
          ]
        }
      ]
    },
    {
      "cell_type": "code",
      "source": [
        "## Como seria en python?\n"
      ],
      "metadata": {
        "id": "jIqsU4HdzO2E"
      },
      "execution_count": 27,
      "outputs": []
    },
    {
      "cell_type": "markdown",
      "source": [
        "#### Ejemplo 6\n",
        "\n",
        "Que hace el siguiente algoritmo?"
      ],
      "metadata": {
        "id": "oQNPu3OxzOca"
      }
    },
    {
      "cell_type": "code",
      "source": [
        "%%writefile Example6.java\n",
        "import java.util.Scanner;\n",
        "class Example6 { // <-- Comienza la clase, TODO DEBE ESTAR DENTRO DE LA CLASE\n",
        "   public static void main(String[] args) { // <-- Comienza mi programa principal\n",
        "      Scanner s = new Scanner(System.in); // nuestra herramienta para leer datos\n",
        "      int i,j,n,m;\n",
        "      double A[][] = new double[50][50];\n",
        "      System.out.println(\"Digite el numero de filas de la matriz\");\n",
        "      n = s.nextInt();\n",
        "      System.out.println(\"Digite el numero de columnas de la matriz\");\n",
        "      m = s.nextInt();\n",
        "      A = ReadMatrix(n,m);\n",
        "      WriteMatrix(A);\n",
        "   } // <-- Termina mi programa principa\n",
        "\n",
        "   public static double[][] ReadMatrix(int n, int m) { // <-- asi creo una funcion con los parametros de entrada que necesita...Comienza mi funcion\n",
        "      int i,j; // <-- esta variable no esta en los parametros de entrada.\n",
        "      double Matrix[][] = new double[n][m];\n",
        "      Scanner s = new Scanner(System.in); // nuestra herramienta para leer datos\n",
        "      for(i=0;i<n;i=i+1){\n",
        "          for(j=0;j<m;j=j+1){\n",
        "              System.out.println(\"Digite el valor de la posicion A[\"+i+\",\"+j+\"]\");\n",
        "              Matrix[i][j] = s.nextDouble();\n",
        "          }\n",
        "      }\n",
        "      return Matrix;\n",
        "   }\n",
        "\n",
        "  public static void WriteMatrix(double A[][]) {\n",
        "    for(int i = 0; i < A.length ; i=i+1){\n",
        "      for(int j = 0 ; j < A[0].length ; j=j+1){\n",
        "          System.out.print(A[i][j] + \" \");\n",
        "      }\n",
        "      System.out.println(\"\");\n",
        "    }     \n",
        "  }\n",
        "\n",
        "} // <-- Termina la clase, TODO DEBE ESTAR DENTRO DE LA CLASE\""
      ],
      "metadata": {
        "colab": {
          "base_uri": "https://localhost:8080/"
        },
        "id": "cGXsUDjUzcOr",
        "outputId": "5d1504da-7546-4e97-e7de-cafa3f944efa"
      },
      "execution_count": 30,
      "outputs": [
        {
          "output_type": "stream",
          "name": "stdout",
          "text": [
            "Overwriting Example6.java\n"
          ]
        }
      ]
    },
    {
      "cell_type": "code",
      "source": [
        "!java Example6.java"
      ],
      "metadata": {
        "colab": {
          "base_uri": "https://localhost:8080/"
        },
        "id": "J11R0VV8z68q",
        "outputId": "ec3e80e9-351c-4077-fb3c-8eb81558bafb"
      },
      "execution_count": 31,
      "outputs": [
        {
          "output_type": "stream",
          "name": "stdout",
          "text": [
            "Digite el numero de filas de la matriz\n",
            "3\n",
            "Digite el numero de columnas de la matriz\n",
            "2\n",
            "Digite el valor de la posicion A[0,0]\n",
            "1\n",
            "Digite el valor de la posicion A[0,1]\n",
            "2\n",
            "Digite el valor de la posicion A[1,0]\n",
            "3\n",
            "Digite el valor de la posicion A[1,1]\n",
            "4\n",
            "Digite el valor de la posicion A[2,0]\n",
            "5\n",
            "Digite el valor de la posicion A[2,1]\n",
            "6\n",
            "1.0 2.0 \n",
            "3.0 4.0 \n",
            "5.0 6.0 \n"
          ]
        }
      ]
    },
    {
      "cell_type": "code",
      "source": [
        "## Como seria en python?\n"
      ],
      "metadata": {
        "id": "e_W0dwa606i2"
      },
      "execution_count": 32,
      "outputs": []
    },
    {
      "cell_type": "markdown",
      "source": [
        "#### Ejemplo 7\n",
        "\n",
        "Que hace el siguiente algoritmo?"
      ],
      "metadata": {
        "id": "y-c6Rn3N09cQ"
      }
    },
    {
      "cell_type": "code",
      "source": [
        "%%writefile Example7.java\n",
        "import java.util.Scanner;\n",
        "class Example7 { // <-- Comienza la clase, TODO DEBE ESTAR DENTRO DE LA CLASE\n",
        "\n",
        "   public static void main(String[] args) { // <-- Comienza mi programa principal\n",
        "      Scanner s = new Scanner(System.in); // nuestra herramienta para leer datos\n",
        "      int i,j,nA,mA,nB,mB;\n",
        "      double A[][] = new double[50][50];\n",
        "      double B[][] = new double[50][50];\n",
        "      double C[][] = new double[50][50];\n",
        "      System.out.println(\"Digite el numero de filas de la matriz A\");\n",
        "      nA = s.nextInt();\n",
        "      System.out.println(\"Digite el numero de columnas de la matriz A\");\n",
        "      mA = s.nextInt();\n",
        "      System.out.println(\"Digite el numero de filas de la matriz B\");\n",
        "      nB = s.nextInt();\n",
        "      System.out.println(\"Digite el numero de columnas de la matriz B\");\n",
        "      mB = s.nextInt();\n",
        "      A = ReadMatrix(nA,mA);\n",
        "      B = ReadMatrix(nB,mB);\n",
        "      System.out.println(\"Matriz A\");\n",
        "      WriteMatrix(A);\n",
        "      System.out.println(\"Matriz B\");\n",
        "      WriteMatrix(B);\n",
        "      if (mA == nB){\n",
        "      C = multiplyMatrices(A,B,nA,nB,mA,mB);\n",
        "      System.out.println(\"Matriz resultante\");\n",
        "      WriteMatrix(C);\n",
        "     }else{\n",
        "         System.out.println(\"Las dimensiones de A y B no concuerdan\");\n",
        "     }\n",
        "   } // <-- Termina mi programa principal\n",
        "\n",
        "   public static double[][] ReadMatrix(int n, int m) { // <-- asi creo una funcion con los parametros de entrada que necesita...Comienza mi funcion\n",
        "      int i,j; // <-- esta variable no esta en los parametros de entrada\n",
        "      double Matrix[][] = new double[n][m];\n",
        "      Scanner s = new Scanner(System.in); // nuestra herramienta para leer datos\n",
        "      for(i=0;i<n;i=i+1){\n",
        "          for(j=0;j<m;j=j+1){\n",
        "              System.out.println(\"Digite el valor de la posicion Matrix[\"+i+\",\"+j+\"]\");\n",
        "              Matrix[i][j] = s.nextDouble();\n",
        "          }\n",
        "      }\n",
        "      return Matrix;\n",
        "   }\n",
        "   \n",
        "    public static double[][] multiplyMatrices(double firstMatrix[][], double secondMatrix[][], int nA, int nB, int mA, int mB) {\n",
        "        double product[][] = new double[nA][mB];\n",
        "            for(int i = 0; i < nA; i++) {\n",
        "              for (int j = 0; j < mB; j++) {\n",
        "                  for (int k = 0; k < nB; k++) {\n",
        "                      product[i][j] = product[i][j] + firstMatrix[i][k] * secondMatrix[k][j];\n",
        "                  }\n",
        "              }\n",
        "          }\n",
        "        return product;\n",
        "    }\n",
        "\n",
        "    public static void WriteMatrix(double M[][]) {\n",
        "      for(int i = 0; i < M.length ; i=i+1){\n",
        "        for(int j = 0 ; j < M[0].length ; j=j+1){\n",
        "            System.out.print(M[i][j] + \" \");\n",
        "        }\n",
        "        System.out.println(\"\");\n",
        "      }     \n",
        "    }\n",
        "\n",
        "} // <-- Termina la clase, TODO DEBE ESTAR DENTRO DE LA CLASE\""
      ],
      "metadata": {
        "colab": {
          "base_uri": "https://localhost:8080/"
        },
        "id": "RZLJoQV_08Un",
        "outputId": "82049272-9c20-442d-ef92-7fdb6fb13dcc"
      },
      "execution_count": 33,
      "outputs": [
        {
          "output_type": "stream",
          "name": "stdout",
          "text": [
            "Writing Example7.java\n"
          ]
        }
      ]
    },
    {
      "cell_type": "code",
      "source": [
        "!java Example7.java"
      ],
      "metadata": {
        "colab": {
          "base_uri": "https://localhost:8080/"
        },
        "id": "Jvt_6iRy2Pjv",
        "outputId": "70d3ea5e-1f20-4099-d832-87a2805058b5"
      },
      "execution_count": 34,
      "outputs": [
        {
          "output_type": "stream",
          "name": "stdout",
          "text": [
            "Digite el numero de filas de la matriz A\n",
            "3\n",
            "Digite el numero de columnas de la matriz A\n",
            "2\n",
            "Digite el numero de filas de la matriz B\n",
            "2\n",
            "Digite el numero de columnas de la matriz B\n",
            "3\n",
            "Digite el valor de la posicion Matrix[0,0]\n",
            "1\n",
            "Digite el valor de la posicion Matrix[0,1]\n",
            "2\n",
            "Digite el valor de la posicion Matrix[1,0]\n",
            "3\n",
            "Digite el valor de la posicion Matrix[1,1]\n",
            "4\n",
            "Digite el valor de la posicion Matrix[2,0]\n",
            "5\n",
            "Digite el valor de la posicion Matrix[2,1]\n",
            "6\n",
            "Digite el valor de la posicion Matrix[0,0]\n",
            "7\n",
            "Digite el valor de la posicion Matrix[0,1]\n",
            "8\n",
            "Digite el valor de la posicion Matrix[0,2]\n",
            "9\n",
            "Digite el valor de la posicion Matrix[1,0]\n",
            "10\n",
            "Digite el valor de la posicion Matrix[1,1]\n",
            "11\n",
            "Digite el valor de la posicion Matrix[1,2]\n",
            "12\n",
            "Matriz A\n",
            "1.0 2.0 \n",
            "3.0 4.0 \n",
            "5.0 6.0 \n",
            "Matriz B\n",
            "7.0 8.0 9.0 \n",
            "10.0 11.0 12.0 \n",
            "Matriz resultante\n",
            "27.0 30.0 33.0 \n",
            "61.0 68.0 75.0 \n",
            "95.0 106.0 117.0 \n"
          ]
        }
      ]
    },
    {
      "cell_type": "code",
      "source": [
        "## Como seria en python?\n"
      ],
      "metadata": {
        "id": "1P_0Wn7u2SSa"
      },
      "execution_count": 35,
      "outputs": []
    }
  ]
}