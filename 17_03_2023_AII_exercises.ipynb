{
  "nbformat": 4,
  "nbformat_minor": 0,
  "metadata": {
    "colab": {
      "provenance": [],
      "authorship_tag": "ABX9TyPa4PAtN0hsnfZfHZzn80LY",
      "include_colab_link": true
    },
    "kernelspec": {
      "name": "python3",
      "display_name": "Python 3"
    },
    "language_info": {
      "name": "python"
    }
  },
  "cells": [
    {
      "cell_type": "markdown",
      "metadata": {
        "id": "view-in-github",
        "colab_type": "text"
      },
      "source": [
        "<a href=\"https://colab.research.google.com/github/JoaoRacedo/Algoritmos_2_2023_10/blob/main/17_03_2023_AII_exercises.ipynb\" target=\"_parent\"><img src=\"https://colab.research.google.com/assets/colab-badge.svg\" alt=\"Open In Colab\"/></a>"
      ]
    },
    {
      "cell_type": "markdown",
      "source": [
        "## 1."
      ],
      "metadata": {
        "id": "fhr4YGCOEQdA"
      }
    },
    {
      "cell_type": "markdown",
      "source": [
        "Usted tiene la informacion correspondiente a la nota final de todos los estudiantes que dieron una materia. Se quiere crear un algoritmo que al leer las notas de todos los estudiantes en una sola linea por medio de funciones y subrutinas pueda calcular el promedio semestral de todos los estudiantes."
      ],
      "metadata": {
        "id": "BuclpoqRES9j"
      }
    },
    {
      "cell_type": "markdown",
      "source": [
        "### Ejemplo\n",
        "\n",
        "Entradas:\n",
        "\n",
        "* num_estudiantes = 10\n",
        "\n",
        "* notas = 5,4,4,4.5,3,2,2.7,5,3.1,0.8\n",
        "\n",
        "resultado esperado: \"El promedio semestral de los estudiantes para esta materia fue de : 3.41\""
      ],
      "metadata": {
        "id": "o5hxebRJFiTw"
      }
    },
    {
      "cell_type": "code",
      "execution_count": null,
      "metadata": {
        "id": "WbjTccyPC9wb"
      },
      "outputs": [],
      "source": [
        "## Todo su codigo para el punto 1 aqui"
      ]
    },
    {
      "cell_type": "markdown",
      "source": [
        "## 2."
      ],
      "metadata": {
        "id": "rCm8s9n5GQ4i"
      }
    },
    {
      "cell_type": "markdown",
      "source": [
        "Dados dos vectores de tamaños n y m respectivamente los cuales deben ser leídos (usando funciones o subrutinas), se requiere que desarrolle un algoritmo usando funciones o subrutinas que diga cual es el menor elemento de cada vectores, encuentre el menor de los dos elementos resultantes y diga a que vector pertenece (queda a su disposición como llama a los vectores para dar la respuesta)."
      ],
      "metadata": {
        "id": "LlLlr3koGav8"
      }
    },
    {
      "cell_type": "markdown",
      "source": [
        "### ejemplo\n",
        "\n",
        "Entradas:\n",
        "\n",
        "* n = 10, m = 9\n",
        "* vec1 = [1, 5, 2, 10, 3, 7, -1, 100, -2, 4]\n",
        "* vec2 = [10, 50, 23, 1, 32, 7, -10, 1, -2]\n",
        "\n",
        "Respuesta esperada: \"El menor numero es -10 y pertenece al vector vec2\""
      ],
      "metadata": {
        "id": "WmnCYmidGpg9"
      }
    },
    {
      "cell_type": "code",
      "source": [
        "## Todo su codigo para el punto 2 aqui"
      ],
      "metadata": {
        "id": "beLkM94oFhsO"
      },
      "execution_count": null,
      "outputs": []
    },
    {
      "cell_type": "markdown",
      "source": [
        "## 3."
      ],
      "metadata": {
        "id": "Lu4FFYpHHQqE"
      }
    },
    {
      "cell_type": "markdown",
      "source": [
        "Dada una matriz cuadrada de tamano n la cual debe leer usando funciones o subprocesos, se requiere que implemente un algoritmo usando funciones o subprocesos transponga la matriz y muestre su resultado."
      ],
      "metadata": {
        "id": "rC0x1QnfHa_m"
      }
    },
    {
      "cell_type": "markdown",
      "source": [
        "### ejemplo\n",
        "\n",
        "Entradas:\n",
        "\n",
        "* n = 4\n",
        "* $$ A = \\begin{bmatrix} 10 & 2 & 3 & 4 \\\\  5 & 22 & 1 & 4 \\\\  1 & 2 & 3 & 4 \\\\  4 & 3 & 2 & 1 \\end{bmatrix}$$\n",
        "\n",
        "\n",
        "Respuesta esperada: \"la matriz transpuesta es\"\n",
        "$$ A = \\begin{bmatrix} 10 & 5 & 1 & 4 \\\\  2 & 22 & 2 & 3 \\\\  3 & 1 & 3 & 2 \\\\  4 & 4 & 4 & 1 \\end{bmatrix}$$"
      ],
      "metadata": {
        "id": "n5ceX8MJH9Wi"
      }
    },
    {
      "cell_type": "code",
      "source": [
        "## Todo su codigo para el punto 3 aqui"
      ],
      "metadata": {
        "id": "GlZUBxRxHQWm"
      },
      "execution_count": null,
      "outputs": []
    },
    {
      "cell_type": "markdown",
      "source": [
        "## 4."
      ],
      "metadata": {
        "id": "hFYBNp7EI6Af"
      }
    },
    {
      "cell_type": "markdown",
      "source": [
        "Dada una matrix m x n que esta compuesta por numeros distintos, cree una funcion que retorne todos los **numeros de la suerte** de la matrix en cualquier orden.\n",
        "\n",
        "**numero de la suerte** : elemento de una matrix que es el minimo elemento de la fila donde esta y el maximo elemento de la columna donde esta."
      ],
      "metadata": {
        "id": "OqgF-yqAI7UR"
      }
    },
    {
      "cell_type": "markdown",
      "source": [
        "### ejemplo\n",
        "\n",
        "Entradas:\n",
        "\n",
        "* n = 3, m = 3\n",
        "* $$ A = \\begin{bmatrix} 3 & 7 & 8\\\\  9 & 11 & 13 \\\\  15 & 16 & 17 \\end{bmatrix}$$\n",
        "\n",
        "Resultado esperado:\n",
        "15\n",
        "\n",
        "Explicacion: 15 es el unico numero de la suerte dado que es el minimo elemento de la fila 3 y el maximo elemento de la columna 1"
      ],
      "metadata": {
        "id": "D2OuQD9BKy-f"
      }
    },
    {
      "cell_type": "code",
      "source": [
        "## Todo su codigo para el punto 4 aqui"
      ],
      "metadata": {
        "id": "EgAtv4mQI5p1"
      },
      "execution_count": null,
      "outputs": []
    },
    {
      "cell_type": "markdown",
      "source": [
        "## 5."
      ],
      "metadata": {
        "id": "r8dMZfANJAdV"
      }
    },
    {
      "cell_type": "markdown",
      "source": [
        "Dado un String `s` que contiene una operacion matematica simple con precedencia de operadores. Determine si `s` es valido usando funciones o subprocesos.\n",
        "\n",
        "Un `s` es valido si:\n",
        "* Los corchetes abiertos deben cerrarse con el mismo tipo de corchetes.\n",
        "* Los corchetes abiertos deben cerrarse en el orden correcto.\n",
        "* Cada paréntesis cerrado tiene un paréntesis abierto correspondiente del mismo tipo."
      ],
      "metadata": {
        "id": "FcZr6K5XJCFS"
      }
    },
    {
      "cell_type": "markdown",
      "source": [
        "### ejemplos\n",
        "\n",
        "Entrada:\n",
        "\n",
        "s = \"()\"\n",
        "\n",
        "Respuesta esperada: true/\"verdadero\"/True/\"Valido\"\n",
        "\n",
        "------------------------------------\n",
        "\n",
        "Entrada:\n",
        "\n",
        "s = \"(2+3)\"\n",
        "\n",
        "Respuesta esperada: true/\"verdadero\"/True/\"Valido\"\n",
        "\n",
        "------------------------------------\n",
        "\n",
        "Entrada:\n",
        "\n",
        "s = \"(2*3]\"\n",
        "\n",
        "Respuesta esperada: false/\"falso\"/False/\"No valido\""
      ],
      "metadata": {
        "id": "ujs6YepYMAzV"
      }
    },
    {
      "cell_type": "code",
      "source": [
        "## Todo su codigo para el punto 5 aqui"
      ],
      "metadata": {
        "id": "isFU8iEgJBSd"
      },
      "execution_count": null,
      "outputs": []
    },
    {
      "cell_type": "markdown",
      "source": [
        "# No se acepta el uso de funciones ya existentes!\n",
        "# Puede hacer los ejercicios en java o python"
      ],
      "metadata": {
        "id": "V_9QqZBVOzp_"
      }
    },
    {
      "cell_type": "markdown",
      "source": [
        "# Retos\n",
        "\n",
        "No entran en el taller, es por si tiene curiosidad\n",
        "\n",
        "https://leetcode.com/problems/island-perimeter/\n",
        "\n",
        "https://leetcode.com/problems/longest-palindromic-substring/\n"
      ],
      "metadata": {
        "id": "rjLANb1gQale"
      }
    }
  ]
}